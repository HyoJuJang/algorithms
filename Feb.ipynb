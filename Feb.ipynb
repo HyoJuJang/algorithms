{
  "nbformat": 4,
  "nbformat_minor": 0,
  "metadata": {
    "colab": {
      "name": "Feb.ipynb",
      "provenance": [],
      "collapsed_sections": [],
      "authorship_tag": "ABX9TyOfKTm0xsAuixbRANYRsTKN",
      "include_colab_link": true
    },
    "kernelspec": {
      "name": "python3",
      "display_name": "Python 3"
    },
    "language_info": {
      "name": "python"
    }
  },
  "cells": [
    {
      "cell_type": "markdown",
      "metadata": {
        "id": "view-in-github",
        "colab_type": "text"
      },
      "source": [
        "<a href=\"https://colab.research.google.com/github/HyoJuJang/algorithms/blob/main/Feb.ipynb\" target=\"_parent\"><img src=\"https://colab.research.google.com/assets/colab-badge.svg\" alt=\"Open In Colab\"/></a>"
      ]
    },
    {
      "cell_type": "code",
      "source": [
        "import time"
      ],
      "metadata": {
        "id": "ChhQ1q_d6-g3"
      },
      "execution_count": 2,
      "outputs": []
    },
    {
      "cell_type": "markdown",
      "source": [
        "#Heap"
      ],
      "metadata": {
        "id": "kDhxKRNVXfOq"
      }
    },
    {
      "cell_type": "markdown",
      "source": [
        "## 디스크 컨트롤러"
      ],
      "metadata": {
        "id": "sWtM-R89XirO"
      }
    },
    {
      "cell_type": "code",
      "source": [
        "jobs = [[0, 3], [1, 9], [2, 6]]\t\n",
        "#answer = 9"
      ],
      "metadata": {
        "id": "lU41T6NgXp1T"
      },
      "execution_count": 1,
      "outputs": []
    },
    {
      "cell_type": "markdown",
      "source": [
        "### 첫번째 시도"
      ],
      "metadata": {
        "id": "xUm-idDiaGGI"
      }
    },
    {
      "cell_type": "code",
      "execution_count": null,
      "metadata": {
        "id": "Yc91MKy5XV8n"
      },
      "outputs": [],
      "source": [
        "import heapq\n",
        "def solution(jobs):\n",
        "    leng = len(jobs)\n",
        "    que = []\n",
        "    heapq.heapify(jobs)\n",
        "    answer = 0\n",
        "    time = 0\n",
        "    while len(jobs) > 0:\n",
        "        if len(que) == 0:\n",
        "            first = heapq.heappop(jobs)\n",
        "            heapq.heappush(que, first)\n",
        "            time += first[1]\n",
        "            answer += (time - first[0])\n",
        "        else:\n",
        "            do = min([x for x in jobs if x[0]<=time], key=lambda x: x[1]-x[0])\n",
        "            jobs.remove(do)\n",
        "            heapq.heappush(que, do)\n",
        "            time += do[1]\n",
        "            answer += (time - do[0])\n",
        "    return int(answer/leng)"
      ]
    },
    {
      "cell_type": "markdown",
      "source": [
        "#### 분석"
      ],
      "metadata": {
        "id": "nVKMceeYaQ47"
      }
    },
    {
      "cell_type": "code",
      "source": [
        "import heapq\n",
        "def solution(jobs):\n",
        "    leng = len(jobs)\n",
        "    que = []\n",
        "    heapq.heapify(jobs)\n",
        "    answer = 0\n",
        "    time = 0\n",
        "    while len(jobs) > 0: #jobs가 남아있을 동안 while문 작동\n",
        "        if len(que) == 0: #que가 비어있다면\n",
        "            first = heapq.heappop(jobs) #jobs에서 시간 제일 빠른애를\n",
        "            heapq.heappush(que, first) #que에 넣고\n",
        "            time += first[1] #시간은 빠른애 동작시간만큼 ##틀린 원인1 = que가 비어있다고 현재시간과 제일 빠른애 요청시간이 일치하는 것은 아님\n",
        "            answer += (time - first[0]) #현재시간-요청시간=요청부터 종료 소요시간\n",
        "        else: #que가 비어있지 않다면\n",
        "            heapq.heappop(que) #que를 비우고\n",
        "            do = min([x for x in jobs if x[0]<=time], key=lambda x: x[1]-x[0]) #jobs 중 시간 조건 맞는애 중 제일 작은애를 do에 할당하고\n",
        "            jobs.remove(do) #jobs에서 do를 지운 후\n",
        "            heapq.heappush(que, do) # que에 넣음\n",
        "            time += do[1] #시간은 do의 동작시간만큼 흐름 ##틀린 원인1\n",
        "            answer += (time - do[0]) #현재시간-do의 요청시간만큼 +=\n",
        "    return int(answer/leng)"
      ],
      "metadata": {
        "id": "qjLu0b8SaB-z"
      },
      "execution_count": null,
      "outputs": []
    },
    {
      "cell_type": "markdown",
      "source": [
        "1) 쓸데 없는 할당이 너무 많음 : que는 정작 0과 1밖에 판단 못함\n",
        "\n",
        "2) 시간을 잘못 설정함 : 현재 시간과 가장 먼저 처리해야할 것의 요청시간이 일치하는 것은 아님(e.g. 현재시간은 3초지만 가장 가까운 처리건은 5초부터 시작일 수 있음)"
      ],
      "metadata": {
        "id": "5rAwEuCJaVoI"
      }
    },
    {
      "cell_type": "markdown",
      "source": [
        "### 코드 리뷰 후 재작성"
      ],
      "metadata": {
        "id": "AUdVkFj09ZRM"
      }
    },
    {
      "cell_type": "code",
      "source": [
        "import heapq\n",
        "def solution1(jobs):\n",
        "    que = []\n",
        "    bf = -1\n",
        "    i, time, answer = 0, 0, 0\n",
        "    while len(jobs) > i: \n",
        "      que = [[x[1],x[0]] for x in jobs if bf < x[0] <= time]\n",
        "      heapq.heapify(que)\n",
        "      if len(que) > 0:            \n",
        "          cur = heapq.heappop(que)\n",
        "          bf = time\n",
        "          time += cur[0]\n",
        "          answer += (time - cur[1])\n",
        "          i += 1\n",
        "      else:\n",
        "          time += 1\n",
        "    return int(answer/len(jobs))"
      ],
      "metadata": {
        "id": "RhlzKYLGaU_S"
      },
      "execution_count": 13,
      "outputs": []
    },
    {
      "cell_type": "code",
      "source": [
        "import heapq\n",
        "def solution2(jobs):\n",
        "    que = []\n",
        "    bf = -1\n",
        "    i, time, answer = 0, 0, 0\n",
        "    while len(jobs) > i: \n",
        "      for j in jobs:\n",
        "        if bf < j[0] <= time:\n",
        "          heapq.heappush(que, [j[1], j[0]])\n",
        "      if len(que) > 0:            \n",
        "        cur = heapq.heappop(que)\n",
        "        bf = time\n",
        "        time += cur[0]\n",
        "        answer += (time - cur[1])\n",
        "        i += 1\n",
        "      else:\n",
        "          time += 1\n",
        "    return int(answer/len(jobs))"
      ],
      "metadata": {
        "id": "yqJlymRK7MI2"
      },
      "execution_count": 19,
      "outputs": []
    },
    {
      "cell_type": "code",
      "source": [
        "start = time.time()\n",
        "solution1(jobs)\n",
        "end = time.time()\n",
        "print(f\"{end-start:.5f} sec\")"
      ],
      "metadata": {
        "id": "GvA1FUx18ClU"
      },
      "execution_count": null,
      "outputs": []
    },
    {
      "cell_type": "code",
      "source": [
        "start = time.time()\n",
        "solution2(jobs)\n",
        "end = time.time()\n",
        "print(f\"{end-start:.5f} sec\")"
      ],
      "metadata": {
        "colab": {
          "base_uri": "https://localhost:8080/"
        },
        "id": "EcYSPCqZ8Z4P",
        "outputId": "e5e23a36-729a-4942-c2a7-016e0b97fa97"
      },
      "execution_count": 20,
      "outputs": [
        {
          "output_type": "stream",
          "name": "stdout",
          "text": [
            "0.00008 sec\n"
          ]
        }
      ]
    },
    {
      "cell_type": "markdown",
      "source": [
        "얻은 아이디어\n",
        "\n",
        "1) 굳이 job를 계속 수정하지 않고 i를 굴려서 len 맞추기 가능\n",
        "\n",
        "2) 정렬 기준이 되어야할 요소를 순서 변경을 통해 앞으로 보내서 heap 장점 활용"
      ],
      "metadata": {
        "id": "-f7LsCww88a0"
      }
    },
    {
      "cell_type": "markdown",
      "source": [
        "의문점\n",
        "\n",
        "list comprehension이 더 빠르다고 들었었는데 왜 느린건지?\n",
        "\n",
        "-> list comprehension 자체의 문제라기보다는 일단 list로 만든 후 그걸 다시 heap하는데 시간복잡도가 증가하는 듯? "
      ],
      "metadata": {
        "id": "I-x9YtDk9sz1"
      }
    },
    {
      "cell_type": "code",
      "source": [
        ""
      ],
      "metadata": {
        "id": "g3J2J5329UII"
      },
      "execution_count": null,
      "outputs": []
    }
  ]
}